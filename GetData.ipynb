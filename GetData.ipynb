{
 "cells": [
  {
   "cell_type": "code",
   "execution_count": 4,
   "id": "cc82a036-5298-4277-adaf-a64b2f840fe1",
   "metadata": {},
   "outputs": [
    {
     "name": "stdout",
     "output_type": "stream",
     "text": [
      "Collecting openmeteo-requests\n",
      "  Downloading openmeteo_requests-1.3.0-py3-none-any.whl (6.0 kB)\n",
      "Requirement already satisfied: requests in c:\\users\\ayhan\\anaconda3\\lib\\site-packages (from openmeteo-requests) (2.32.3)\n",
      "Collecting openmeteo-sdk>=1.4.0\n",
      "  Downloading openmeteo_sdk-1.19.0-py3-none-any.whl (15 kB)\n",
      "Collecting flatbuffers==25.2.10\n",
      "  Downloading flatbuffers-25.2.10-py2.py3-none-any.whl (30 kB)\n",
      "Requirement already satisfied: charset-normalizer<4,>=2 in c:\\users\\ayhan\\anaconda3\\lib\\site-packages (from requests->openmeteo-requests) (2.0.4)\n",
      "Requirement already satisfied: idna<4,>=2.5 in c:\\users\\ayhan\\anaconda3\\lib\\site-packages (from requests->openmeteo-requests) (3.3)\n",
      "Requirement already satisfied: certifi>=2017.4.17 in c:\\users\\ayhan\\anaconda3\\lib\\site-packages (from requests->openmeteo-requests) (2024.8.30)\n",
      "Requirement already satisfied: urllib3<3,>=1.21.1 in c:\\users\\ayhan\\anaconda3\\lib\\site-packages (from requests->openmeteo-requests) (1.26.9)\n",
      "Installing collected packages: flatbuffers, openmeteo-sdk, openmeteo-requests\n",
      "Successfully installed flatbuffers-25.2.10 openmeteo-requests-1.3.0 openmeteo-sdk-1.19.0\n",
      "Note: you may need to restart the kernel to use updated packages.\n"
     ]
    }
   ],
   "source": [
    "pip install openmeteo-requests"
   ]
  },
  {
   "cell_type": "code",
   "execution_count": 5,
   "id": "03bea097-b91e-4573-a40b-c9d3903ff967",
   "metadata": {},
   "outputs": [
    {
     "name": "stdout",
     "output_type": "stream",
     "text": [
      "Collecting requests-cache\n",
      "  Downloading requests_cache-1.2.1-py3-none-any.whl (61 kB)\n",
      "Collecting retry-requests\n",
      "  Downloading retry_requests-2.0.0-py3-none-any.whl (15 kB)\n",
      "Requirement already satisfied: numpy in c:\\users\\ayhan\\anaconda3\\lib\\site-packages (1.22.4)\n",
      "Requirement already satisfied: pandas in c:\\users\\ayhan\\anaconda3\\lib\\site-packages (1.4.2)\n",
      "Requirement already satisfied: platformdirs>=2.5 in c:\\users\\ayhan\\anaconda3\\lib\\site-packages (from requests-cache) (3.10.0)\n",
      "Collecting cattrs>=22.2\n",
      "  Downloading cattrs-24.1.3-py3-none-any.whl (66 kB)\n",
      "Requirement already satisfied: urllib3>=1.25.5 in c:\\users\\ayhan\\anaconda3\\lib\\site-packages (from requests-cache) (1.26.9)\n",
      "Requirement already satisfied: attrs>=21.2 in c:\\users\\ayhan\\anaconda3\\lib\\site-packages (from requests-cache) (24.2.0)\n",
      "Collecting url-normalize>=1.4\n",
      "  Downloading url_normalize-2.2.0-py3-none-any.whl (14 kB)\n",
      "Requirement already satisfied: requests>=2.22 in c:\\users\\ayhan\\anaconda3\\lib\\site-packages (from requests-cache) (2.32.3)\n",
      "Requirement already satisfied: python-dateutil>=2.8.1 in c:\\users\\ayhan\\anaconda3\\lib\\site-packages (from pandas) (2.8.2)\n",
      "Requirement already satisfied: pytz>=2020.1 in c:\\users\\ayhan\\anaconda3\\lib\\site-packages (from pandas) (2021.3)\n",
      "Requirement already satisfied: typing-extensions!=4.6.3,>=4.1.0 in c:\\users\\ayhan\\anaconda3\\lib\\site-packages (from cattrs>=22.2->requests-cache) (4.12.2)\n",
      "Collecting exceptiongroup>=1.1.1\n",
      "  Downloading exceptiongroup-1.2.2-py3-none-any.whl (16 kB)\n",
      "Requirement already satisfied: six>=1.5 in c:\\users\\ayhan\\anaconda3\\lib\\site-packages (from python-dateutil>=2.8.1->pandas) (1.16.0)\n",
      "Requirement already satisfied: charset-normalizer<4,>=2 in c:\\users\\ayhan\\anaconda3\\lib\\site-packages (from requests>=2.22->requests-cache) (2.0.4)\n",
      "Requirement already satisfied: certifi>=2017.4.17 in c:\\users\\ayhan\\anaconda3\\lib\\site-packages (from requests>=2.22->requests-cache) (2024.8.30)\n",
      "Requirement already satisfied: idna<4,>=2.5 in c:\\users\\ayhan\\anaconda3\\lib\\site-packages (from requests>=2.22->requests-cache) (3.3)\n",
      "Installing collected packages: exceptiongroup, url-normalize, cattrs, retry-requests, requests-cache\n",
      "Successfully installed cattrs-24.1.3 exceptiongroup-1.2.2 requests-cache-1.2.1 retry-requests-2.0.0 url-normalize-2.2.0\n",
      "Note: you may need to restart the kernel to use updated packages.\n"
     ]
    }
   ],
   "source": [
    "pip install requests-cache retry-requests numpy pandas"
   ]
  },
  {
   "cell_type": "code",
   "execution_count": 26,
   "id": "9cb896a7-803f-4cac-b16c-74ae0867ee8b",
   "metadata": {},
   "outputs": [],
   "source": [
    "import openmeteo_requests\n",
    "\n",
    "import requests_cache\n",
    "import pandas as pd\n",
    "from retry_requests import retry"
   ]
  },
  {
   "cell_type": "code",
   "execution_count": 10,
   "id": "4f6a4ec9-8d6f-40df-9ad0-a4bbc90260f6",
   "metadata": {},
   "outputs": [],
   "source": [
    "# Setup the Open-Meteo API client with cache and retry on error\n",
    "cache_session = requests_cache.CachedSession('.cache', expire_after = -1)\n",
    "retry_session = retry(cache_session, retries = 5, backoff_factor = 0.2)\n",
    "openmeteo = openmeteo_requests.Client(session = retry_session)"
   ]
  },
  {
   "cell_type": "code",
   "execution_count": 28,
   "id": "2a452259-80ff-4cb5-8cd5-20a5e0d6df72",
   "metadata": {},
   "outputs": [],
   "source": [
    "# Make sure all required weather variables are listed here\n",
    "# The order of variables in hourly or daily is important to assign them correctly below\n",
    "url = \"https://archive-api.open-meteo.com/v1/archive\"\n",
    "params = {\n",
    "\t\"latitude\": 60.1695,\n",
    "\t\"longitude\": 24.9354,\n",
    "\t\"start_date\": \"2010-01-01\",\n",
    "\t\"end_date\": \"2019-12-31\",\n",
    "\t\"hourly\": [\"temperature_2m\", \"rain\", \"snowfall\", \"sunshine_duration\", \"soil_temperature_0_to_7cm\", \"weather_code\", \"relative_humidity_2m\", \"precipitation\"],\n",
    "\t\"timezone\": \"Europe/Berlin\",\n",
    "\t\"temporal_resolution\": \"hourly_6\"\n",
    "}\n",
    "responses = openmeteo.weather_api(url, params=params)"
   ]
  },
  {
   "cell_type": "code",
   "execution_count": 30,
   "id": "9261c99a-48a8-4ddd-a556-6f7bc7e7057a",
   "metadata": {},
   "outputs": [
    {
     "name": "stdout",
     "output_type": "stream",
     "text": [
      "Coordinates 60.140594482421875°N 24.965036392211914°E\n",
      "Elevation 12.0 m asl\n",
      "Timezone b'Europe/Berlin'b'GMT+2'\n",
      "Timezone difference to GMT+0 7200 s\n"
     ]
    }
   ],
   "source": [
    "# Process first location. Add a for-loop for multiple locations or weather models\n",
    "response = responses[0]\n",
    "print(f\"Coordinates {response.Latitude()}°N {response.Longitude()}°E\")\n",
    "print(f\"Elevation {response.Elevation()} m asl\")\n",
    "print(f\"Timezone {response.Timezone()}{response.TimezoneAbbreviation()}\")\n",
    "print(f\"Timezone difference to GMT+0 {response.UtcOffsetSeconds()} s\")\n"
   ]
  },
  {
   "cell_type": "code",
   "execution_count": 32,
   "id": "2d883bf5-6d48-4fcb-9b33-8fe476dc5a7d",
   "metadata": {},
   "outputs": [],
   "source": [
    "# Process hourly data. The order of variables needs to be the same as requested.\n",
    "hourly = response.Hourly()\n",
    "hourly_temperature_2m = hourly.Variables(0).ValuesAsNumpy()\n",
    "hourly_rain = hourly.Variables(1).ValuesAsNumpy()\n",
    "hourly_snowfall = hourly.Variables(2).ValuesAsNumpy()\n",
    "hourly_sunshine_duration = hourly.Variables(3).ValuesAsNumpy()\n",
    "hourly_soil_temperature_0_to_7cm = hourly.Variables(4).ValuesAsNumpy()\n",
    "hourly_weather_code = hourly.Variables(5).ValuesAsNumpy()\n",
    "hourly_relative_humidity_2m = hourly.Variables(6).ValuesAsNumpy()\n",
    "hourly_precipitation = hourly.Variables(7).ValuesAsNumpy()"
   ]
  },
  {
   "cell_type": "code",
   "execution_count": 34,
   "id": "2a47edd6-fad9-4e1a-babe-076525aabdf5",
   "metadata": {},
   "outputs": [],
   "source": [
    "hourly_data = {\"date\": pd.date_range(\n",
    "\tstart = pd.to_datetime(hourly.Time(), unit = \"s\", utc = True),\n",
    "\tend = pd.to_datetime(hourly.TimeEnd(), unit = \"s\", utc = True),\n",
    "\tfreq = pd.Timedelta(seconds = hourly.Interval()),\n",
    "\tinclusive = \"left\"\n",
    ")}"
   ]
  },
  {
   "cell_type": "code",
   "execution_count": 36,
   "id": "4718427d-7289-4423-ad0a-eb3229230b81",
   "metadata": {},
   "outputs": [],
   "source": [
    "hourly_data[\"temperature_2m\"] = hourly_temperature_2m\n",
    "hourly_data[\"rain\"] = hourly_rain\n",
    "hourly_data[\"snowfall\"] = hourly_snowfall\n",
    "hourly_data[\"sunshine_duration\"] = hourly_sunshine_duration\n",
    "hourly_data[\"soil_temperature_0_to_7cm\"] = hourly_soil_temperature_0_to_7cm\n",
    "hourly_data[\"weather_code\"] = hourly_weather_code\n",
    "hourly_data[\"relative_humidity_2m\"] = hourly_relative_humidity_2m\n",
    "hourly_data[\"precipitation\"] = hourly_precipitation\n",
    "\n",
    "hourly_dataframe = pd.DataFrame(data = hourly_data)"
   ]
  },
  {
   "cell_type": "code",
   "execution_count": 46,
   "id": "419170ca-7ee4-48a2-b729-78ee399f42ea",
   "metadata": {},
   "outputs": [],
   "source": [
    "hourly_dataframe.to_csv('./export/weather2010_2019_helsinki.csv', sep=',', encoding='utf-8', index=False, header=True)"
   ]
  },
  {
   "cell_type": "code",
   "execution_count": 66,
   "id": "c4388e9d-4842-4091-9f10-83d9ea81c6f5",
   "metadata": {},
   "outputs": [
    {
     "data": {
      "text/html": [
       "<div>\n",
       "<style scoped>\n",
       "    .dataframe tbody tr th:only-of-type {\n",
       "        vertical-align: middle;\n",
       "    }\n",
       "\n",
       "    .dataframe tbody tr th {\n",
       "        vertical-align: top;\n",
       "    }\n",
       "\n",
       "    .dataframe thead th {\n",
       "        text-align: right;\n",
       "    }\n",
       "</style>\n",
       "<table border=\"1\" class=\"dataframe\">\n",
       "  <thead>\n",
       "    <tr style=\"text-align: right;\">\n",
       "      <th></th>\n",
       "      <th>date</th>\n",
       "      <th>temperature_2m</th>\n",
       "      <th>rain</th>\n",
       "      <th>snowfall</th>\n",
       "      <th>sunshine_duration</th>\n",
       "      <th>soil_temperature_0_to_7cm</th>\n",
       "      <th>weather_code</th>\n",
       "      <th>relative_humidity_2m</th>\n",
       "      <th>precipitation</th>\n",
       "    </tr>\n",
       "  </thead>\n",
       "  <tbody>\n",
       "    <tr>\n",
       "      <th>0</th>\n",
       "      <td>2009-12-31 22:00:00+00:00</td>\n",
       "      <td>-10.6805</td>\n",
       "      <td>0.0</td>\n",
       "      <td>0.07</td>\n",
       "      <td>0.0</td>\n",
       "      <td>-1.8805</td>\n",
       "      <td>71.0</td>\n",
       "      <td>87.295601</td>\n",
       "      <td>0.0</td>\n",
       "    </tr>\n",
       "    <tr>\n",
       "      <th>1</th>\n",
       "      <td>2010-01-01 04:00:00+00:00</td>\n",
       "      <td>-9.9805</td>\n",
       "      <td>0.0</td>\n",
       "      <td>0.21</td>\n",
       "      <td>0.0</td>\n",
       "      <td>-1.8805</td>\n",
       "      <td>71.0</td>\n",
       "      <td>86.323875</td>\n",
       "      <td>0.1</td>\n",
       "    </tr>\n",
       "    <tr>\n",
       "      <th>2</th>\n",
       "      <td>2010-01-01 10:00:00+00:00</td>\n",
       "      <td>-10.9305</td>\n",
       "      <td>0.0</td>\n",
       "      <td>0.00</td>\n",
       "      <td>0.0</td>\n",
       "      <td>-1.8805</td>\n",
       "      <td>3.0</td>\n",
       "      <td>84.836220</td>\n",
       "      <td>0.0</td>\n",
       "    </tr>\n",
       "    <tr>\n",
       "      <th>3</th>\n",
       "      <td>2010-01-01 16:00:00+00:00</td>\n",
       "      <td>-13.2805</td>\n",
       "      <td>0.0</td>\n",
       "      <td>0.00</td>\n",
       "      <td>0.0</td>\n",
       "      <td>-1.8805</td>\n",
       "      <td>3.0</td>\n",
       "      <td>84.548553</td>\n",
       "      <td>0.0</td>\n",
       "    </tr>\n",
       "    <tr>\n",
       "      <th>4</th>\n",
       "      <td>2010-01-01 22:00:00+00:00</td>\n",
       "      <td>-16.0805</td>\n",
       "      <td>0.0</td>\n",
       "      <td>0.00</td>\n",
       "      <td>0.0</td>\n",
       "      <td>-1.8805</td>\n",
       "      <td>3.0</td>\n",
       "      <td>84.911079</td>\n",
       "      <td>0.0</td>\n",
       "    </tr>\n",
       "  </tbody>\n",
       "</table>\n",
       "</div>"
      ],
      "text/plain": [
       "                       date  temperature_2m  rain  snowfall  \\\n",
       "0 2009-12-31 22:00:00+00:00        -10.6805   0.0      0.07   \n",
       "1 2010-01-01 04:00:00+00:00         -9.9805   0.0      0.21   \n",
       "2 2010-01-01 10:00:00+00:00        -10.9305   0.0      0.00   \n",
       "3 2010-01-01 16:00:00+00:00        -13.2805   0.0      0.00   \n",
       "4 2010-01-01 22:00:00+00:00        -16.0805   0.0      0.00   \n",
       "\n",
       "   sunshine_duration  soil_temperature_0_to_7cm  weather_code  \\\n",
       "0                0.0                    -1.8805          71.0   \n",
       "1                0.0                    -1.8805          71.0   \n",
       "2                0.0                    -1.8805           3.0   \n",
       "3                0.0                    -1.8805           3.0   \n",
       "4                0.0                    -1.8805           3.0   \n",
       "\n",
       "   relative_humidity_2m  precipitation  \n",
       "0             87.295601            0.0  \n",
       "1             86.323875            0.1  \n",
       "2             84.836220            0.0  \n",
       "3             84.548553            0.0  \n",
       "4             84.911079            0.0  "
      ]
     },
     "execution_count": 66,
     "metadata": {},
     "output_type": "execute_result"
    }
   ],
   "source": [
    "hourly_dataframe.head()"
   ]
  },
  {
   "cell_type": "code",
   "execution_count": 50,
   "id": "9a1794a0-f1b3-4fa2-82ad-1fea805e1614",
   "metadata": {},
   "outputs": [
    {
     "name": "stdout",
     "output_type": "stream",
     "text": [
      "14608\n"
     ]
    }
   ],
   "source": [
    "print(hourly_dataframe.shape[0])"
   ]
  },
  {
   "cell_type": "code",
   "execution_count": 64,
   "id": "452904cf-38dc-4fe0-a3b8-13b41a9003c0",
   "metadata": {},
   "outputs": [
    {
     "name": "stdout",
     "output_type": "stream",
     "text": [
      "<class 'pandas.core.frame.DataFrame'>\n",
      "RangeIndex: 14608 entries, 0 to 14607\n",
      "Data columns (total 9 columns):\n",
      " #   Column                     Non-Null Count  Dtype              \n",
      "---  ------                     --------------  -----              \n",
      " 0   date                       14608 non-null  datetime64[ns, UTC]\n",
      " 1   temperature_2m             14608 non-null  float32            \n",
      " 2   rain                       14608 non-null  float32            \n",
      " 3   snowfall                   14608 non-null  float32            \n",
      " 4   sunshine_duration          14608 non-null  float32            \n",
      " 5   soil_temperature_0_to_7cm  14608 non-null  float32            \n",
      " 6   weather_code               14608 non-null  float32            \n",
      " 7   relative_humidity_2m       14608 non-null  float32            \n",
      " 8   precipitation              14608 non-null  float32            \n",
      "dtypes: datetime64[ns, UTC](1), float32(8)\n",
      "memory usage: 570.8 KB\n"
     ]
    }
   ],
   "source": [
    "hourly_dataframe.info()"
   ]
  },
  {
   "cell_type": "code",
   "execution_count": null,
   "id": "7bb05baa-39dc-47cb-80e8-c11181a50280",
   "metadata": {},
   "outputs": [],
   "source": []
  }
 ],
 "metadata": {
  "kernelspec": {
   "display_name": "Python 3 (ipykernel)",
   "language": "python",
   "name": "python3"
  },
  "language_info": {
   "codemirror_mode": {
    "name": "ipython",
    "version": 3
   },
   "file_extension": ".py",
   "mimetype": "text/x-python",
   "name": "python",
   "nbconvert_exporter": "python",
   "pygments_lexer": "ipython3",
   "version": "3.9.12"
  }
 },
 "nbformat": 4,
 "nbformat_minor": 5
}
