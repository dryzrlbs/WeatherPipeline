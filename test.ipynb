{
 "cells": [
  {
   "cell_type": "code",
   "execution_count": 3,
   "id": "39e6cef3-a6db-4e08-af98-b56a17499c3c",
   "metadata": {},
   "outputs": [],
   "source": [
    "import datetime\n",
    "import json\n",
    "\n",
    " # Bugünün tarihini al\n",
    "today = datetime.datetime.now()\n"
   ]
  },
  {
   "cell_type": "code",
   "execution_count": 5,
   "id": "18ed5d1c-24d2-4888-9427-745573396527",
   "metadata": {},
   "outputs": [
    {
     "name": "stdout",
     "output_type": "stream",
     "text": [
      "2025-04-06\n",
      "2025-04-06\n",
      "{\"start_date\": \"2025-04-06\", \"end_date\": \"2025-04-07\"}\n"
     ]
    }
   ],
   "source": [
    "\n",
    "      # Dün ve önceki günün tarihlerini hesapla\n",
    "      yesterday = today - datetime.timedelta(days=1)\n",
    "      day_before_yesterday = today - datetime.timedelta(days=2)\n",
    "\n",
    "      # Tarihleri istenilen formatta (YYYY-MM-DD) olarak formatla\n",
    "      start_date = yesterday.strftime('%Y-%m-%d')\n",
    "      end_date = today.strftime('%Y-%m-%d')\n",
    "\n",
    "      # JSON olarak çıktı ver\n",
    "      result = {\n",
    "          \"start_date\": start_date,\n",
    "          \"end_date\": end_date\n",
    "      }\n",
    "      print(start_date)\n",
    "      print(start_date)\n",
    "      # Sonucu JSON olarak yazdır\n",
    "      print(json.dumps(result))"
   ]
  },
  {
   "cell_type": "code",
   "execution_count": null,
   "id": "52652cf2-1d2a-4fc5-8ab6-0859f3a1c79b",
   "metadata": {},
   "outputs": [],
   "source": []
  }
 ],
 "metadata": {
  "kernelspec": {
   "display_name": "Python 3 (ipykernel)",
   "language": "python",
   "name": "python3"
  },
  "language_info": {
   "codemirror_mode": {
    "name": "ipython",
    "version": 3
   },
   "file_extension": ".py",
   "mimetype": "text/x-python",
   "name": "python",
   "nbconvert_exporter": "python",
   "pygments_lexer": "ipython3",
   "version": "3.9.12"
  }
 },
 "nbformat": 4,
 "nbformat_minor": 5
}
